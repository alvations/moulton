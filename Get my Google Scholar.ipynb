{
 "cells": [
  {
   "cell_type": "code",
   "execution_count": 17,
   "metadata": {},
   "outputs": [],
   "source": [
    "import sys\n",
    "import warnings\n",
    "import time\n",
    "\n",
    "from tqdm import tqdm\n",
    "from bs4 import BeautifulSoup\n",
    "\n",
    "import pyderman\n",
    "\n",
    "from selenium import webdriver\n",
    "from selenium.webdriver.chrome.options import Options\n",
    "from selenium.webdriver.support.ui import Select\n",
    "\n",
    "from pprint import pprint\n",
    "\n",
    "import json"
   ]
  },
  {
   "cell_type": "code",
   "execution_count": 2,
   "metadata": {},
   "outputs": [],
   "source": [
    "def open_chrome(headless=True):\n",
    "    path = pyderman.install(browser=pyderman.chrome)\n",
    "\n",
    "    options = Options()\n",
    "    options.add_argument(\"--enable-javascript\")\n",
    "    options.headless = headless\n",
    "\n",
    "    driver = webdriver.Chrome(path, options=options)\n",
    "\n",
    "    # Sanity checks.\n",
    "    driver.get(\"http://www.python.org\")\n",
    "    assert \"Python\" in driver.title\n",
    "    return driver\n",
    "\n"
   ]
  },
  {
   "cell_type": "code",
   "execution_count": 3,
   "metadata": {},
   "outputs": [
    {
     "name": "stdout",
     "output_type": "stream",
     "text": [
      "chromedriver is already installed.\n"
     ]
    }
   ],
   "source": [
    "driver = open_chrome(False)"
   ]
  },
  {
   "cell_type": "code",
   "execution_count": 4,
   "metadata": {},
   "outputs": [],
   "source": [
    "gscholar_url = \"https://scholar.google.com/citations?user=qre6vl0AAAAJ&hl=en\"\n",
    "driver.get(gscholar_url)"
   ]
  },
  {
   "cell_type": "code",
   "execution_count": 5,
   "metadata": {
    "scrolled": false
   },
   "outputs": [],
   "source": [
    "while True:\n",
    "    e = driver.find_element_by_xpath('//button[@id=\"gsc_bpf_more\"]')\n",
    "    e.click()\n",
    "    if e.get_attribute('disabled') == 'true':\n",
    "        break"
   ]
  },
  {
   "cell_type": "code",
   "execution_count": 18,
   "metadata": {
    "scrolled": false
   },
   "outputs": [],
   "source": [
    "publications = []\n",
    "\n",
    "for e in driver.find_elements_by_xpath('//tr[@class=\"gsc_a_tr\"]'):\n",
    "    e.click()\n",
    "    _json = {}\n",
    "    time.sleep(0.7)\n",
    "    try:\n",
    "        bsoup = BeautifulSoup(driver.page_source.encode('utf-8'))\n",
    "        cite = bsoup.find('div', attrs={'id': 'gs_md_cita-l'})\n",
    "        keys = cite.find_all('div', attrs={'class':'gsc_vcd_field'})\n",
    "        values = cite.find_all('div', attrs={'class':'gsc_vcd_value'})\n",
    "        for k,v in zip(keys, values):\n",
    "            if k.text == 'Scholar articles':\n",
    "                continue\n",
    "            if k.text == 'Total citations':\n",
    "                _json[k.text] = int(v.find('a').text[9:])\n",
    "            else:\n",
    "                _json[k.text] = v.get_text('\\n')\n",
    "        driver.find_element_by_xpath('//a[@id=\"gs_md_cita-d-x\"]').click()\n",
    "    except:\n",
    "        continue\n",
    "    if _json:\n",
    "        json_str = json.dumps(_json)\n",
    "        if json_str not in publications:\n",
    "            publications.append(json_str)\n",
    "            \n",
    "publications = [json.loads(c) for c in publications]"
   ]
  },
  {
   "cell_type": "code",
   "execution_count": 21,
   "metadata": {},
   "outputs": [],
   "source": [
    "with open('liling-tan.gscholar.json', 'w') as fout:\n",
    "    json.dump(publications, fout)"
   ]
  },
  {
   "cell_type": "code",
   "execution_count": 34,
   "metadata": {},
   "outputs": [],
   "source": []
  },
  {
   "cell_type": "code",
   "execution_count": null,
   "metadata": {},
   "outputs": [],
   "source": []
  }
 ],
 "metadata": {
  "kernelspec": {
   "display_name": "Python 3",
   "language": "python",
   "name": "python3"
  },
  "language_info": {
   "codemirror_mode": {
    "name": "ipython",
    "version": 3
   },
   "file_extension": ".py",
   "mimetype": "text/x-python",
   "name": "python",
   "nbconvert_exporter": "python",
   "pygments_lexer": "ipython3",
   "version": "3.6.4rc1"
  }
 },
 "nbformat": 4,
 "nbformat_minor": 2
}
