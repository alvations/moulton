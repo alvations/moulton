{
 "cells": [
  {
   "cell_type": "code",
   "execution_count": 76,
   "metadata": {},
   "outputs": [],
   "source": [
    "import sys\n",
    "import warnings\n",
    "import time\n",
    "\n",
    "from tqdm import tqdm\n",
    "from bs4 import BeautifulSoup\n",
    "\n",
    "import pyderman\n",
    "\n",
    "from selenium import webdriver\n",
    "from selenium.webdriver.chrome.options import Options\n",
    "from selenium.webdriver.support.ui import Select\n",
    "\n",
    "from pprint import pprint\n",
    "\n",
    "import json\n",
    "\n",
    "import requests\n",
    "\n",
    "from collections import defaultdict"
   ]
  },
  {
   "cell_type": "code",
   "execution_count": 2,
   "metadata": {},
   "outputs": [],
   "source": [
    "def open_chrome(headless=True):\n",
    "    path = pyderman.install(browser=pyderman.chrome)\n",
    "\n",
    "    options = Options()\n",
    "    options.add_argument(\"--enable-javascript\")\n",
    "    options.headless = headless\n",
    "\n",
    "    driver = webdriver.Chrome(path, options=options)\n",
    "\n",
    "    # Sanity checks.\n",
    "    driver.get(\"http://www.python.org\")\n",
    "    assert \"Python\" in driver.title\n",
    "    return driver\n",
    "\n"
   ]
  },
  {
   "cell_type": "code",
   "execution_count": 3,
   "metadata": {},
   "outputs": [
    {
     "name": "stdout",
     "output_type": "stream",
     "text": [
      "chromedriver is already installed.\n"
     ]
    }
   ],
   "source": [
    "driver = open_chrome(False)"
   ]
  },
  {
   "cell_type": "code",
   "execution_count": 27,
   "metadata": {},
   "outputs": [],
   "source": [
    "semscholar_url = \"https://www.semanticscholar.org/author/Liling-Tan/40268710\"\n",
    "driver.get(semscholar_url)"
   ]
  },
  {
   "cell_type": "code",
   "execution_count": 60,
   "metadata": {},
   "outputs": [],
   "source": [
    "# Go through all the pages to get the paper links.\n",
    "pages = []\n",
    "try:\n",
    "    while True:\n",
    "        driver.execute_script(\"window.scrollTo(0, document.body.scrollHeight);\")\n",
    "        page = driver.find_element_by_xpath('//a[@data-selenium-selector=\"next-page\"]')\n",
    "        page.click()\n",
    "        bsoup = BeautifulSoup(driver.page_source)\n",
    "        pages.append(bsoup)\n",
    "        time.sleep(1)\n",
    "except:\n",
    "    pass\n",
    "\n",
    "papers_urls = ['https://www.semanticscholar.org' + article.find('a').attrs['href']\n",
    "              for p in pages \n",
    "              for article in p.find_all('article', attrs={'class':'search-result'})]\n"
   ]
  },
  {
   "cell_type": "code",
   "execution_count": 94,
   "metadata": {},
   "outputs": [
    {
     "name": "stderr",
     "output_type": "stream",
     "text": [
      "\r",
      "  0%|          | 0/30 [00:00<?, ?it/s]"
     ]
    },
    {
     "name": "stdout",
     "output_type": "stream",
     "text": [
      "https://www.semanticscholar.org/paper/A-Report-on-the-DSL-Shared-Task-2014-Zampieri-Tan/b9422f5ecd2829ad22883b10b8f6eef7c6b9787e\n"
     ]
    },
    {
     "name": "stderr",
     "output_type": "stream",
     "text": [
      "\r",
      "  3%|▎         | 1/30 [00:01<00:40,  1.38s/it]"
     ]
    },
    {
     "name": "stdout",
     "output_type": "stream",
     "text": [
      "https://www.semanticscholar.org/paper/MacSaar-at-SemEval-2016-Task-11%3A-Zipfian-and-for-Zampieri-Tan/312e51ff2fb3cabca7dbd3655f51a3a9f917fd9e\n"
     ]
    },
    {
     "name": "stderr",
     "output_type": "stream",
     "text": [
      "\r",
      "  7%|▋         | 2/30 [00:02<00:35,  1.27s/it]"
     ]
    },
    {
     "name": "stdout",
     "output_type": "stream",
     "text": [
      "https://www.semanticscholar.org/paper/USHEF-and-USAAR-USHEF-participation-in-the-WMT15-QE-Scarton-Tan/f2ddfefd3d0d1b166e485b712dc8ecc7107925b2\n"
     ]
    },
    {
     "name": "stderr",
     "output_type": "stream",
     "text": [
      "\r",
      " 10%|█         | 3/30 [00:03<00:32,  1.22s/it]"
     ]
    },
    {
     "name": "stdout",
     "output_type": "stream",
     "text": [
      "https://www.semanticscholar.org/paper/USAAR-at-SemEval-2016-Task-13%3A-Hyponym-Tan-Bond/c1a8fc39ff20968f63ad1ca0ba09a9a68e7e9741\n"
     ]
    },
    {
     "name": "stderr",
     "output_type": "stream",
     "text": [
      "\r",
      " 13%|█▎        | 4/30 [00:04<00:31,  1.21s/it]"
     ]
    },
    {
     "name": "stdout",
     "output_type": "stream",
     "text": [
      "https://www.semanticscholar.org/paper/USAAR-SHEFFIELD%3A-Semantic-Textual-Similarity-with-Tan-Scarton/6d463e3c2afd2f227f58c5aaff2f9c2d42aacc46\n"
     ]
    },
    {
     "name": "stderr",
     "output_type": "stream",
     "text": [
      "\r",
      " 17%|█▋        | 5/30 [00:05<00:30,  1.22s/it]"
     ]
    },
    {
     "name": "stdout",
     "output_type": "stream",
     "text": [
      "https://www.semanticscholar.org/paper/BIRA%3A-Improved-Predictive-Exchange-Word-Clustering-Dehdari-Tan/c91649b5d82b276f05429aa8906e640553d7797f\n"
     ]
    },
    {
     "name": "stderr",
     "output_type": "stream",
     "text": [
      "\r",
      " 20%|██        | 6/30 [00:07<00:29,  1.23s/it]"
     ]
    },
    {
     "name": "stdout",
     "output_type": "stream",
     "text": [
      "https://www.semanticscholar.org/paper/NTU-MC-Toolkit%3A-Annotating-a-Linguistically-Diverse-Tan-Bond/532f6dd6f816ecf44167d133468241a0ddc704b1\n"
     ]
    },
    {
     "name": "stderr",
     "output_type": "stream",
     "text": [
      "\r",
      " 23%|██▎       | 7/30 [00:08<00:26,  1.17s/it]"
     ]
    },
    {
     "name": "stdout",
     "output_type": "stream",
     "text": [
      "https://www.semanticscholar.org/paper/USAAR-CHRONOS%3A-Crawling-the-Web-for-Temporal-Tan-Ordan/180758927745df3a72fddf1659dd51c2867abb8e\n"
     ]
    },
    {
     "name": "stderr",
     "output_type": "stream",
     "text": [
      "\r",
      " 27%|██▋       | 8/30 [00:09<00:24,  1.14s/it]"
     ]
    },
    {
     "name": "stdout",
     "output_type": "stream",
     "text": [
      "https://www.semanticscholar.org/paper/Proceedings-of-the-First-Workshop-on-Applying-NLP-Zampieri-Tan/eae8cd9f31e3a171ccca595aeff859105098dfc2\n"
     ]
    },
    {
     "name": "stderr",
     "output_type": "stream",
     "text": [
      "\r",
      " 30%|███       | 9/30 [00:10<00:23,  1.12s/it]"
     ]
    },
    {
     "name": "stdout",
     "output_type": "stream",
     "text": [
      "https://www.semanticscholar.org/paper/Effect-of-extracellular-matrix-composition-on-cell-Royce-Tan/05fbc6710fea5fa757444c6a4216741926336ad6\n"
     ]
    },
    {
     "name": "stderr",
     "output_type": "stream",
     "text": [
      "\r",
      " 33%|███▎      | 10/30 [00:11<00:22,  1.13s/it]"
     ]
    },
    {
     "name": "stdout",
     "output_type": "stream",
     "text": [
      "https://www.semanticscholar.org/paper/A-Report-on-the-DSL-Shared-Task-2014-Zampieri-Tan/b9422f5ecd2829ad22883b10b8f6eef7c6b9787e\n"
     ]
    },
    {
     "name": "stderr",
     "output_type": "stream",
     "text": [
      "\r",
      " 37%|███▋      | 11/30 [00:12<00:22,  1.16s/it]"
     ]
    },
    {
     "name": "stdout",
     "output_type": "stream",
     "text": [
      "https://www.semanticscholar.org/paper/MacSaar-at-SemEval-2016-Task-11%3A-Zipfian-and-for-Zampieri-Tan/312e51ff2fb3cabca7dbd3655f51a3a9f917fd9e\n"
     ]
    },
    {
     "name": "stderr",
     "output_type": "stream",
     "text": [
      "\r",
      " 40%|████      | 12/30 [00:13<00:20,  1.14s/it]"
     ]
    },
    {
     "name": "stdout",
     "output_type": "stream",
     "text": [
      "https://www.semanticscholar.org/paper/USHEF-and-USAAR-USHEF-participation-in-the-WMT15-QE-Scarton-Tan/f2ddfefd3d0d1b166e485b712dc8ecc7107925b2\n"
     ]
    },
    {
     "name": "stderr",
     "output_type": "stream",
     "text": [
      "\r",
      " 43%|████▎     | 13/30 [00:15<00:20,  1.19s/it]"
     ]
    },
    {
     "name": "stdout",
     "output_type": "stream",
     "text": [
      "https://www.semanticscholar.org/paper/USAAR-at-SemEval-2016-Task-13%3A-Hyponym-Tan-Bond/c1a8fc39ff20968f63ad1ca0ba09a9a68e7e9741\n"
     ]
    },
    {
     "name": "stderr",
     "output_type": "stream",
     "text": [
      "\r",
      " 47%|████▋     | 14/30 [00:16<00:18,  1.14s/it]"
     ]
    },
    {
     "name": "stdout",
     "output_type": "stream",
     "text": [
      "https://www.semanticscholar.org/paper/USAAR-SHEFFIELD%3A-Semantic-Textual-Similarity-with-Tan-Scarton/6d463e3c2afd2f227f58c5aaff2f9c2d42aacc46\n"
     ]
    },
    {
     "name": "stderr",
     "output_type": "stream",
     "text": [
      "\r",
      " 50%|█████     | 15/30 [00:17<00:17,  1.17s/it]"
     ]
    },
    {
     "name": "stdout",
     "output_type": "stream",
     "text": [
      "https://www.semanticscholar.org/paper/BIRA%3A-Improved-Predictive-Exchange-Word-Clustering-Dehdari-Tan/c91649b5d82b276f05429aa8906e640553d7797f\n"
     ]
    },
    {
     "name": "stderr",
     "output_type": "stream",
     "text": [
      "\r",
      " 53%|█████▎    | 16/30 [00:18<00:17,  1.23s/it]"
     ]
    },
    {
     "name": "stdout",
     "output_type": "stream",
     "text": [
      "https://www.semanticscholar.org/paper/NTU-MC-Toolkit%3A-Annotating-a-Linguistically-Diverse-Tan-Bond/532f6dd6f816ecf44167d133468241a0ddc704b1\n"
     ]
    },
    {
     "name": "stderr",
     "output_type": "stream",
     "text": [
      "\r",
      " 57%|█████▋    | 17/30 [00:19<00:15,  1.16s/it]"
     ]
    },
    {
     "name": "stdout",
     "output_type": "stream",
     "text": [
      "https://www.semanticscholar.org/paper/USAAR-CHRONOS%3A-Crawling-the-Web-for-Temporal-Tan-Ordan/180758927745df3a72fddf1659dd51c2867abb8e\n"
     ]
    },
    {
     "name": "stderr",
     "output_type": "stream",
     "text": [
      "\r",
      " 60%|██████    | 18/30 [00:20<00:13,  1.12s/it]"
     ]
    },
    {
     "name": "stdout",
     "output_type": "stream",
     "text": [
      "https://www.semanticscholar.org/paper/Proceedings-of-the-First-Workshop-on-Applying-NLP-Zampieri-Tan/eae8cd9f31e3a171ccca595aeff859105098dfc2\n"
     ]
    },
    {
     "name": "stderr",
     "output_type": "stream",
     "text": [
      "\r",
      " 63%|██████▎   | 19/30 [00:21<00:12,  1.09s/it]"
     ]
    },
    {
     "name": "stdout",
     "output_type": "stream",
     "text": [
      "https://www.semanticscholar.org/paper/Effect-of-extracellular-matrix-composition-on-cell-Royce-Tan/05fbc6710fea5fa757444c6a4216741926336ad6\n"
     ]
    },
    {
     "name": "stderr",
     "output_type": "stream",
     "text": [
      "\r",
      " 67%|██████▋   | 20/30 [00:22<00:10,  1.08s/it]"
     ]
    },
    {
     "name": "stdout",
     "output_type": "stream",
     "text": [
      "https://www.semanticscholar.org/paper/Unconstrained-Production-Categorization-with-Models-Li-Tan/841e8fd05a556320fdfb9be377bd46c49d19478a\n"
     ]
    },
    {
     "name": "stderr",
     "output_type": "stream",
     "text": [
      "\r",
      " 70%|███████   | 21/30 [00:23<00:09,  1.08s/it]"
     ]
    },
    {
     "name": "stdout",
     "output_type": "stream",
     "text": [
      "https://www.semanticscholar.org/paper/Don't-Classify%2C-Translate%3A-Multi-Level-E-Commerce-Li-Kok/0dd9ce60b65246a8e762c1fa39a0151f19efc221\n"
     ]
    },
    {
     "name": "stderr",
     "output_type": "stream",
     "text": [
      "\r",
      " 73%|███████▎  | 22/30 [00:25<00:09,  1.13s/it]"
     ]
    },
    {
     "name": "stdout",
     "output_type": "stream",
     "text": [
      "https://www.semanticscholar.org/paper/USAAR-at-SemEval-2016-Task-11%3A-Complex-Word-with-Mart%C3%ADnez-Tan/ccb0612eded55f5f23f187f2d8564ef13d54f2ca\n"
     ]
    },
    {
     "name": "stderr",
     "output_type": "stream",
     "text": [
      "\r",
      " 77%|███████▋  | 23/30 [00:26<00:07,  1.13s/it]"
     ]
    },
    {
     "name": "stdout",
     "output_type": "stream",
     "text": [
      "https://www.semanticscholar.org/paper/Scaling-Up-Word-Clustering-Dehdari-Tan/d7ae2d108666f09614095f847de74ddb4da941c1\n"
     ]
    },
    {
     "name": "stderr",
     "output_type": "stream",
     "text": [
      "\r",
      " 80%|████████  | 24/30 [00:27<00:06,  1.12s/it]"
     ]
    },
    {
     "name": "stdout",
     "output_type": "stream",
     "text": [
      "https://www.semanticscholar.org/paper/The-OPT-ional-Phenomenon-in-Singapore-English%3A-A-Lai-Tan/51713e051d36de667ab043ab994cbfc775500ae1\n"
     ]
    },
    {
     "name": "stderr",
     "output_type": "stream",
     "text": [
      "\r",
      " 83%|████████▎ | 25/30 [00:28<00:05,  1.12s/it]"
     ]
    },
    {
     "name": "stdout",
     "output_type": "stream",
     "text": [
      "https://www.semanticscholar.org/paper/USHEF-and-USAAR-USHEF-Participation-in-the-WMT15-Scarton-Tan/0d1798847e45bfae396026b1dfb57a22ced28823\n"
     ]
    },
    {
     "name": "stderr",
     "output_type": "stream",
     "text": [
      "\r",
      " 87%|████████▋ | 26/30 [00:29<00:04,  1.10s/it]"
     ]
    },
    {
     "name": "stdout",
     "output_type": "stream",
     "text": [
      "https://www.semanticscholar.org/paper/Proceedings-of-Workshop-for-NLP-Open-Source-Park-Hagiwara/08f1b65fb94c1f9af29ebcf23d6e274051af3703\n"
     ]
    },
    {
     "name": "stderr",
     "output_type": "stream",
     "text": [
      "\r",
      " 90%|█████████ | 27/30 [00:30<00:03,  1.08s/it]"
     ]
    },
    {
     "name": "stdout",
     "output_type": "stream",
     "text": [
      "https://www.semanticscholar.org/paper/SAARSHEFF-at-SemEval-2016-Task-1%3A-Semantic-Textual-Tan-Scarton/924614270e7b614b50f51678a9eb536865e5238d\n"
     ]
    },
    {
     "name": "stderr",
     "output_type": "stream",
     "text": [
      "\r",
      " 93%|█████████▎| 28/30 [00:31<00:02,  1.12s/it]"
     ]
    },
    {
     "name": "stdout",
     "output_type": "stream",
     "text": [
      "https://www.semanticscholar.org/paper/XLING%3A-Matching-Query-Sentences-to-a-Parallel-using-Tan-Bond/57b106a684f3521ebf0174f18d1f2b0bd8e10a20\n"
     ]
    },
    {
     "name": "stderr",
     "output_type": "stream",
     "text": [
      "\r",
      " 97%|█████████▋| 29/30 [00:32<00:01,  1.12s/it]"
     ]
    },
    {
     "name": "stdout",
     "output_type": "stream",
     "text": [
      "https://www.semanticscholar.org/paper/Overview-of-the-DSL-Shared-Task-2015-Zampieri-Tan/f57f4b1836c3a558b330e198e1b327c6c0cdb3da\n"
     ]
    },
    {
     "name": "stderr",
     "output_type": "stream",
     "text": [
      "100%|██████████| 30/30 [00:33<00:00,  1.13s/it]\n"
     ]
    }
   ],
   "source": [
    "publications = []\n",
    "\n",
    "for url in tqdm(papers_urls):\n",
    "    article = requests.get(url).content.decode('utf8')\n",
    "    bsoup = BeautifulSoup(article)\n",
    "    \n",
    "    try:\n",
    "        num_cite = int(bsoup.find('div', attrs={'class':'scorecard_stat__body'}).find('span').text.split(' ')[0])\n",
    "    except:\n",
    "        num_cite = 0\n",
    "    bsoup = BeautifulSoup(article)\n",
    "\n",
    "    _json = defaultdict(list)\n",
    "    for meta in bsoup.find_all('meta'):\n",
    "        try:\n",
    "            k = meta.attrs['name']\n",
    "            v = meta.attrs['content']\n",
    "            _json[k].append(v)\n",
    "        except:\n",
    "            continue\n",
    "    _json['num_cite'] = num_cite\n",
    "    _json['url'] = url\n",
    "    \n",
    "    json_str = json.dumps(_json)\n",
    "    if json_str not in publications:\n",
    "        publications.append(json_str)\n",
    "\n",
    "publications = [json.loads(c) for c in publications]"
   ]
  },
  {
   "cell_type": "code",
   "execution_count": 95,
   "metadata": {},
   "outputs": [],
   "source": [
    "with open('liling-tan.semscholar.json', 'w') as fout:\n",
    "    json.dump(publications, fout)"
   ]
  },
  {
   "cell_type": "code",
   "execution_count": null,
   "metadata": {},
   "outputs": [],
   "source": []
  },
  {
   "cell_type": "code",
   "execution_count": null,
   "metadata": {},
   "outputs": [],
   "source": []
  }
 ],
 "metadata": {
  "kernelspec": {
   "display_name": "Python 3",
   "language": "python",
   "name": "python3"
  },
  "language_info": {
   "codemirror_mode": {
    "name": "ipython",
    "version": 3
   },
   "file_extension": ".py",
   "mimetype": "text/x-python",
   "name": "python",
   "nbconvert_exporter": "python",
   "pygments_lexer": "ipython3",
   "version": "3.6.4rc1"
  }
 },
 "nbformat": 4,
 "nbformat_minor": 2
}
